{
  "nbformat": 4,
  "nbformat_minor": 0,
  "metadata": {
    "accelerator": "GPU",
    "colab": {
      "name": "Копия блокнота \"main.ipynb\"",
      "provenance": [],
      "collapsed_sections": [],
      "include_colab_link": true
    },
    "kernelspec": {
      "display_name": "Python 3",
      "language": "python",
      "name": "python3"
    },
    "language_info": {
      "codemirror_mode": {
        "name": "ipython",
        "version": 3
      },
      "file_extension": ".py",
      "mimetype": "text/x-python",
      "name": "python",
      "nbconvert_exporter": "python",
      "pygments_lexer": "ipython3",
      "version": "3.9.5"
    },
    "widgets": {
      "application/vnd.jupyter.widget-state+json": {
        "65c9f5af9b974994a147258b968d5ca1": {
          "model_module": "@jupyter-widgets/controls",
          "model_name": "TextModel",
          "state": {
            "_dom_classes": [],
            "_model_module": "@jupyter-widgets/controls",
            "_model_module_version": "1.5.0",
            "_model_name": "TextModel",
            "_view_count": null,
            "_view_module": "@jupyter-widgets/controls",
            "_view_module_version": "1.5.0",
            "_view_name": "TextView",
            "continuous_update": true,
            "description": "",
            "description_tooltip": null,
            "disabled": false,
            "layout": "IPY_MODEL_32322a1476c94f6b9f1fde9f84cbc3f2",
            "placeholder": "​",
            "style": "IPY_MODEL_988ae01445ca4758be10bae7b56db3ba",
            "value": "Я ем детей"
          }
        },
        "32322a1476c94f6b9f1fde9f84cbc3f2": {
          "model_module": "@jupyter-widgets/base",
          "model_name": "LayoutModel",
          "state": {
            "_model_module": "@jupyter-widgets/base",
            "_model_module_version": "1.2.0",
            "_model_name": "LayoutModel",
            "_view_count": null,
            "_view_module": "@jupyter-widgets/base",
            "_view_module_version": "1.2.0",
            "_view_name": "LayoutView",
            "align_content": null,
            "align_items": null,
            "align_self": null,
            "border": null,
            "bottom": null,
            "display": null,
            "flex": null,
            "flex_flow": null,
            "grid_area": null,
            "grid_auto_columns": null,
            "grid_auto_flow": null,
            "grid_auto_rows": null,
            "grid_column": null,
            "grid_gap": null,
            "grid_row": null,
            "grid_template_areas": null,
            "grid_template_columns": null,
            "grid_template_rows": null,
            "height": null,
            "justify_content": null,
            "justify_items": null,
            "left": null,
            "margin": null,
            "max_height": null,
            "max_width": null,
            "min_height": null,
            "min_width": null,
            "object_fit": null,
            "object_position": null,
            "order": null,
            "overflow": null,
            "overflow_x": null,
            "overflow_y": null,
            "padding": null,
            "right": null,
            "top": null,
            "visibility": null,
            "width": null
          }
        },
        "988ae01445ca4758be10bae7b56db3ba": {
          "model_module": "@jupyter-widgets/controls",
          "model_name": "DescriptionStyleModel",
          "state": {
            "_model_module": "@jupyter-widgets/controls",
            "_model_module_version": "1.5.0",
            "_model_name": "DescriptionStyleModel",
            "_view_count": null,
            "_view_module": "@jupyter-widgets/base",
            "_view_module_version": "1.2.0",
            "_view_name": "StyleView",
            "description_width": ""
          }
        },
        "930f2ee16290454799fcd2d56e0f0889": {
          "model_module": "@jupyter-widgets/output",
          "model_name": "OutputModel",
          "state": {
            "_view_name": "OutputView",
            "msg_id": "",
            "_dom_classes": [],
            "_model_name": "OutputModel",
            "outputs": [
              {
                "output_type": "stream",
                "metadata": {
                  "tags": []
                },
                "text": "Я Ем Детей Я Не Уйду Позволь Мне Насладиться Твоим Влюблённым Взглядом Ну Только Ты Ты Одна Так И Расскажу И Горе Пролетало И Не Та Ты Ответишь Нами На Ругаться Ты Гуляешь И Ты Его Моей Жаль Что Же Мы Любовь Вернуть Что Же Ты Была Пусть Проходишь И Прощения Лучше Что\n",
                "stream": "stdout"
              }
            ],
            "_view_module": "@jupyter-widgets/output",
            "_model_module_version": "1.0.0",
            "_view_count": null,
            "_view_module_version": "1.0.0",
            "layout": "IPY_MODEL_6d703b6e49b84269acaffa7237a402cf",
            "_model_module": "@jupyter-widgets/output"
          }
        },
        "6d703b6e49b84269acaffa7237a402cf": {
          "model_module": "@jupyter-widgets/base",
          "model_name": "LayoutModel",
          "state": {
            "_view_name": "LayoutView",
            "grid_template_rows": null,
            "right": null,
            "justify_content": null,
            "_view_module": "@jupyter-widgets/base",
            "overflow": null,
            "_model_module_version": "1.2.0",
            "_view_count": null,
            "flex_flow": null,
            "width": null,
            "min_width": null,
            "border": null,
            "align_items": null,
            "bottom": null,
            "_model_module": "@jupyter-widgets/base",
            "top": null,
            "grid_column": null,
            "overflow_y": null,
            "overflow_x": null,
            "grid_auto_flow": null,
            "grid_area": null,
            "grid_template_columns": null,
            "flex": null,
            "_model_name": "LayoutModel",
            "justify_items": null,
            "grid_row": null,
            "max_height": null,
            "align_content": null,
            "visibility": null,
            "align_self": null,
            "height": null,
            "min_height": null,
            "padding": null,
            "grid_auto_rows": null,
            "grid_gap": null,
            "max_width": null,
            "order": null,
            "_view_module_version": "1.2.0",
            "grid_template_areas": null,
            "object_position": null,
            "object_fit": null,
            "grid_auto_columns": null,
            "margin": null,
            "display": null,
            "left": null
          }
        },
        "5033a31203e844289f7d9abe65af126e": {
          "model_module": "@jupyter-widgets/controls",
          "model_name": "HBoxModel",
          "state": {
            "_view_name": "HBoxView",
            "_dom_classes": [],
            "_model_name": "HBoxModel",
            "_view_module": "@jupyter-widgets/controls",
            "_model_module_version": "1.5.0",
            "_view_count": null,
            "_view_module_version": "1.5.0",
            "box_style": "",
            "layout": "IPY_MODEL_1b41735a588c4021a7d6cb5351fe0d3f",
            "_model_module": "@jupyter-widgets/controls",
            "children": [
              "IPY_MODEL_8cc8d9bbcbf44ce8b870ecee09a82032",
              "IPY_MODEL_cabec34190eb4430bf2ddb1d2252d658",
              "IPY_MODEL_a2517948e89242ff86df1ea4f409dffe"
            ]
          }
        },
        "1b41735a588c4021a7d6cb5351fe0d3f": {
          "model_module": "@jupyter-widgets/base",
          "model_name": "LayoutModel",
          "state": {
            "_view_name": "LayoutView",
            "grid_template_rows": null,
            "right": null,
            "justify_content": null,
            "_view_module": "@jupyter-widgets/base",
            "overflow": null,
            "_model_module_version": "1.2.0",
            "_view_count": null,
            "flex_flow": null,
            "width": null,
            "min_width": null,
            "border": null,
            "align_items": null,
            "bottom": null,
            "_model_module": "@jupyter-widgets/base",
            "top": null,
            "grid_column": null,
            "overflow_y": null,
            "overflow_x": null,
            "grid_auto_flow": null,
            "grid_area": null,
            "grid_template_columns": null,
            "flex": null,
            "_model_name": "LayoutModel",
            "justify_items": null,
            "grid_row": null,
            "max_height": null,
            "align_content": null,
            "visibility": null,
            "align_self": null,
            "height": null,
            "min_height": null,
            "padding": null,
            "grid_auto_rows": null,
            "grid_gap": null,
            "max_width": null,
            "order": null,
            "_view_module_version": "1.2.0",
            "grid_template_areas": null,
            "object_position": null,
            "object_fit": null,
            "grid_auto_columns": null,
            "margin": null,
            "display": null,
            "left": null
          }
        },
        "8cc8d9bbcbf44ce8b870ecee09a82032": {
          "model_module": "@jupyter-widgets/controls",
          "model_name": "ButtonModel",
          "state": {
            "_view_name": "ButtonView",
            "style": "IPY_MODEL_9bc57c61cbf947c482a05c227f8d8e48",
            "_dom_classes": [],
            "description": "lstm",
            "_model_name": "ButtonModel",
            "button_style": "",
            "_view_module": "@jupyter-widgets/controls",
            "_model_module_version": "1.5.0",
            "tooltip": "",
            "_view_count": null,
            "disabled": false,
            "_view_module_version": "1.5.0",
            "layout": "IPY_MODEL_9598888be03a4bc490856d2fe071550a",
            "_model_module": "@jupyter-widgets/controls",
            "icon": ""
          }
        },
        "cabec34190eb4430bf2ddb1d2252d658": {
          "model_module": "@jupyter-widgets/controls",
          "model_name": "ButtonModel",
          "state": {
            "_view_name": "ButtonView",
            "style": "IPY_MODEL_2f90725cebb84cae86ea9a0dbca26876",
            "_dom_classes": [],
            "description": "gpt_simple",
            "_model_name": "ButtonModel",
            "button_style": "",
            "_view_module": "@jupyter-widgets/controls",
            "_model_module_version": "1.5.0",
            "tooltip": "",
            "_view_count": null,
            "disabled": false,
            "_view_module_version": "1.5.0",
            "layout": "IPY_MODEL_a2f52940dbbc4acf8e96bf48e9384374",
            "_model_module": "@jupyter-widgets/controls",
            "icon": ""
          }
        },
        "a2517948e89242ff86df1ea4f409dffe": {
          "model_module": "@jupyter-widgets/controls",
          "model_name": "ButtonModel",
          "state": {
            "_view_name": "ButtonView",
            "style": "IPY_MODEL_12acd64390bf4da89f91600e920c3034",
            "_dom_classes": [],
            "description": "gpt3",
            "_model_name": "ButtonModel",
            "button_style": "",
            "_view_module": "@jupyter-widgets/controls",
            "_model_module_version": "1.5.0",
            "tooltip": "",
            "_view_count": null,
            "disabled": false,
            "_view_module_version": "1.5.0",
            "layout": "IPY_MODEL_1d090acfede54a5e9241497209587360",
            "_model_module": "@jupyter-widgets/controls",
            "icon": ""
          }
        },
        "9bc57c61cbf947c482a05c227f8d8e48": {
          "model_module": "@jupyter-widgets/controls",
          "model_name": "ButtonStyleModel",
          "state": {
            "_view_name": "StyleView",
            "_model_name": "ButtonStyleModel",
            "_view_module": "@jupyter-widgets/base",
            "_model_module_version": "1.5.0",
            "_view_count": null,
            "button_color": null,
            "font_weight": "",
            "_view_module_version": "1.2.0",
            "_model_module": "@jupyter-widgets/controls"
          }
        },
        "9598888be03a4bc490856d2fe071550a": {
          "model_module": "@jupyter-widgets/base",
          "model_name": "LayoutModel",
          "state": {
            "_view_name": "LayoutView",
            "grid_template_rows": null,
            "right": null,
            "justify_content": null,
            "_view_module": "@jupyter-widgets/base",
            "overflow": null,
            "_model_module_version": "1.2.0",
            "_view_count": null,
            "flex_flow": null,
            "width": null,
            "min_width": null,
            "border": null,
            "align_items": null,
            "bottom": null,
            "_model_module": "@jupyter-widgets/base",
            "top": null,
            "grid_column": null,
            "overflow_y": null,
            "overflow_x": null,
            "grid_auto_flow": null,
            "grid_area": null,
            "grid_template_columns": null,
            "flex": null,
            "_model_name": "LayoutModel",
            "justify_items": null,
            "grid_row": null,
            "max_height": null,
            "align_content": null,
            "visibility": null,
            "align_self": null,
            "height": null,
            "min_height": null,
            "padding": null,
            "grid_auto_rows": null,
            "grid_gap": null,
            "max_width": null,
            "order": null,
            "_view_module_version": "1.2.0",
            "grid_template_areas": null,
            "object_position": null,
            "object_fit": null,
            "grid_auto_columns": null,
            "margin": null,
            "display": null,
            "left": null
          }
        },
        "2f90725cebb84cae86ea9a0dbca26876": {
          "model_module": "@jupyter-widgets/controls",
          "model_name": "ButtonStyleModel",
          "state": {
            "_view_name": "StyleView",
            "_model_name": "ButtonStyleModel",
            "_view_module": "@jupyter-widgets/base",
            "_model_module_version": "1.5.0",
            "_view_count": null,
            "button_color": null,
            "font_weight": "",
            "_view_module_version": "1.2.0",
            "_model_module": "@jupyter-widgets/controls"
          }
        },
        "a2f52940dbbc4acf8e96bf48e9384374": {
          "model_module": "@jupyter-widgets/base",
          "model_name": "LayoutModel",
          "state": {
            "_view_name": "LayoutView",
            "grid_template_rows": null,
            "right": null,
            "justify_content": null,
            "_view_module": "@jupyter-widgets/base",
            "overflow": null,
            "_model_module_version": "1.2.0",
            "_view_count": null,
            "flex_flow": null,
            "width": null,
            "min_width": null,
            "border": null,
            "align_items": null,
            "bottom": null,
            "_model_module": "@jupyter-widgets/base",
            "top": null,
            "grid_column": null,
            "overflow_y": null,
            "overflow_x": null,
            "grid_auto_flow": null,
            "grid_area": null,
            "grid_template_columns": null,
            "flex": null,
            "_model_name": "LayoutModel",
            "justify_items": null,
            "grid_row": null,
            "max_height": null,
            "align_content": null,
            "visibility": null,
            "align_self": null,
            "height": null,
            "min_height": null,
            "padding": null,
            "grid_auto_rows": null,
            "grid_gap": null,
            "max_width": null,
            "order": null,
            "_view_module_version": "1.2.0",
            "grid_template_areas": null,
            "object_position": null,
            "object_fit": null,
            "grid_auto_columns": null,
            "margin": null,
            "display": null,
            "left": null
          }
        },
        "12acd64390bf4da89f91600e920c3034": {
          "model_module": "@jupyter-widgets/controls",
          "model_name": "ButtonStyleModel",
          "state": {
            "_view_name": "StyleView",
            "_model_name": "ButtonStyleModel",
            "_view_module": "@jupyter-widgets/base",
            "_model_module_version": "1.5.0",
            "_view_count": null,
            "button_color": null,
            "font_weight": "",
            "_view_module_version": "1.2.0",
            "_model_module": "@jupyter-widgets/controls"
          }
        },
        "1d090acfede54a5e9241497209587360": {
          "model_module": "@jupyter-widgets/base",
          "model_name": "LayoutModel",
          "state": {
            "_view_name": "LayoutView",
            "grid_template_rows": null,
            "right": null,
            "justify_content": null,
            "_view_module": "@jupyter-widgets/base",
            "overflow": null,
            "_model_module_version": "1.2.0",
            "_view_count": null,
            "flex_flow": null,
            "width": null,
            "min_width": null,
            "border": null,
            "align_items": null,
            "bottom": null,
            "_model_module": "@jupyter-widgets/base",
            "top": null,
            "grid_column": null,
            "overflow_y": null,
            "overflow_x": null,
            "grid_auto_flow": null,
            "grid_area": null,
            "grid_template_columns": null,
            "flex": null,
            "_model_name": "LayoutModel",
            "justify_items": null,
            "grid_row": null,
            "max_height": null,
            "align_content": null,
            "visibility": null,
            "align_self": null,
            "height": null,
            "min_height": null,
            "padding": null,
            "grid_auto_rows": null,
            "grid_gap": null,
            "max_width": null,
            "order": null,
            "_view_module_version": "1.2.0",
            "grid_template_areas": null,
            "object_position": null,
            "object_fit": null,
            "grid_auto_columns": null,
            "margin": null,
            "display": null,
            "left": null
          }
        }
      }
    }
  },
  "cells": [
    {
      "cell_type": "markdown",
      "metadata": {
        "id": "view-in-github",
        "colab_type": "text"
      },
      "source": [
        "<a href=\"https://colab.research.google.com/github/shaisk/ML/blob/master/main.ipynb\" target=\"_parent\"><img src=\"https://colab.research.google.com/assets/colab-badge.svg\" alt=\"Open In Colab\"/></a>"
      ]
    },
    {
      "cell_type": "code",
      "metadata": {
        "id": "8Sgu5OlJgsCv"
      },
      "source": [
        "import pandas as pd\n",
        "from sklearn import preprocessing\n",
        "from sklearn.model_selection import cross_validate\n",
        "\n",
        "import itertools\n",
        "\n",
        "\n",
        "import numpy as np\n",
        "from xgboost import XGBClassifier\n",
        "from sklearn.model_selection import train_test_split\n",
        "from sklearn.metrics import accuracy_score\n",
        "from IPython.display import display,clear_output\n",
        "import ipywidgets as widgets\n",
        "from ipywidgets import interact, interact_manual\n",
        "from ipywidgets import interactive\n",
        "from ipywidgets import Button, HBox, VBox\n",
        "import pandas as pd\n",
        "import numpy as np\n",
        "import matplotlib.pylab as plt\n",
        "\n",
        "import os\n",
        "import signal\n",
        "import subprocess\n",
        "import time\n",
        "from getpass import getpass\n",
        "import subprocess\n",
        "from getpass import getpass\n",
        "from ipywidgets import interact, interact_manual\n",
        "from ipywidgets import interactive\n",
        "import ipywidgets as widgets\n",
        "from IPython.display import display\n",
        "from IPython.display import display,clear_output\n",
        "import keras\n",
        "from keras.preprocessing.text import Tokenizer\n",
        "from keras.preprocessing.sequence import pad_sequences\n",
        "\n",
        "from keras.models import load_model\n",
        "from keras.preprocessing.sequence import pad_sequences\n",
        "from keras.layers import Embedding, LSTM, Dense, Dropout\n",
        "from keras.layers import Flatten\n",
        "import tensorflow as tf\n",
        "from keras.preprocessing.text import Tokenizer\n",
        "from keras.callbacks import EarlyStopping\n",
        "from keras.models import Sequential\n",
        "import keras.utils as ku \n",
        "import pandas as pd\n",
        "import numpy as np\n",
        "import string, os \n",
        "import warnings\n",
        "warnings.filterwarnings(\"ignore\")\n",
        "warnings.simplefilter(action='ignore', category=FutureWarning)\n",
        "\n"
      ],
      "execution_count": null,
      "outputs": []
    },
    {
      "cell_type": "code",
      "metadata": {
        "colab": {
          "base_uri": "https://localhost:8080/"
        },
        "id": "n0AZGxGDYzQn",
        "outputId": "34f71ee3-8d8f-468c-f00a-61bd0099e5db"
      },
      "source": [
        "from google.colab import drive\n",
        "drive.mount('/content/gdrive')"
      ],
      "execution_count": null,
      "outputs": [
        {
          "output_type": "stream",
          "text": [
            "Mounted at /content/gdrive\n"
          ],
          "name": "stdout"
        }
      ]
    },
    {
      "cell_type": "code",
      "metadata": {
        "colab": {
          "base_uri": "https://localhost:8080/"
        },
        "id": "88mAg50YnTmt",
        "outputId": "41a2e4e3-564c-451f-9e05-038b30733fd2"
      },
      "source": [
        "cd /content/gdrive/MyDrive/Colab Notebooks\n"
      ],
      "execution_count": null,
      "outputs": [
        {
          "output_type": "stream",
          "text": [
            "/content/gdrive/MyDrive/Colab Notebooks\n"
          ],
          "name": "stdout"
        }
      ]
    },
    {
      "cell_type": "code",
      "metadata": {
        "colab": {
          "background_save": true,
          "base_uri": "https://localhost:8080/"
        },
        "id": "mKh9QiC9YzQq",
        "outputId": "46061009-7691-4714-dee1-1447bb764d67"
      },
      "source": [
        "df = pd.read_csv(\"/content/gdrive/MyDrive/colab/songs.csv\")\n",
        "all_descriptions = list(df.text.values)\n",
        "corpus = [x for x in all_descriptions]\n",
        "\n",
        "# Tokenization\n",
        "t = Tokenizer(num_words=None, filters='!\"#$%&()*+,-./:;<=>?@[\\\\]^_`{|}~\\t\\n', lower=True, split=' ', char_level=False, oov_token=None, document_count=0)\n",
        "\n",
        "def get_sequence_of_tokens(corpus):\n",
        "    t.fit_on_texts(corpus)\n",
        "    total_words = len(t.word_index) + 1\n",
        "    \n",
        "    input_sequences = []\n",
        "    for line in corpus:\n",
        "        token_list = t.texts_to_sequences([line])[0]\n",
        "        for i in range(1, len(token_list)):\n",
        "            n_gram_sequence = token_list[:i+1]\n",
        "            input_sequences.append(n_gram_sequence)\n",
        "            \n",
        "    return input_sequences, total_words\n",
        "input_sequences, total_words = get_sequence_of_tokens(corpus)\n",
        "from tensorflow.keras.utils import to_categorical\n",
        "# pad sequences \n",
        "def generate_padded_sequences(input_sequences):\n",
        "    max_sequence_len = max([len(x) for x in input_sequences])\n",
        "    input_sequences = np.array(pad_sequences(input_sequences, maxlen = max_sequence_len, padding = 'pre'))\n",
        "    predictors, label = input_sequences[:,:-1],input_sequences[:,-1]\n",
        "    label = to_categorical(label, num_classes = total_words)\n",
        "    \n",
        "    return predictors, label, max_sequence_len\n",
        "\n",
        "predictors, label, max_sequence_len = generate_padded_sequences(input_sequences)\n",
        "\n",
        "def create_model(max_sequence_len, total_words):\n",
        "    model1 = Sequential()\n",
        "    \n",
        "    # Add Input Embedding Layer\n",
        "    model1.add(Embedding(total_words, 10, input_length=max_sequence_len - 1))\n",
        "    \n",
        "    # Add Hidden Layer 1 - LSTM Layer\n",
        "    model1.add(LSTM(50))\n",
        "    model1.add(Dropout(0.1))\n",
        "\n",
        "    # model.add(Flatten())\n",
        "    \n",
        "    \n",
        "    # Add Output Layer\n",
        "    model1.add(Dense(total_words, activation='softmax'))\n",
        "\n",
        "    model1.compile(loss='categorical_crossentropy', optimizer='adam')\n",
        "    \n",
        "    return model1\n",
        "\n",
        "lstm_model = create_model(max_sequence_len, total_words)\n",
        "lstm_model.fit(predictors, label, epochs=100, verbose=1)\n",
        "\n",
        "\n"
      ],
      "execution_count": null,
      "outputs": [
        {
          "output_type": "stream",
          "text": [
            "Epoch 1/30\n",
            "516/516 [==============================] - 113s 184ms/step - loss: 7.0339\n",
            "Epoch 2/30\n",
            "516/516 [==============================] - 95s 185ms/step - loss: 6.3258\n",
            "Epoch 3/30\n",
            "516/516 [==============================] - 95s 184ms/step - loss: 6.2269\n",
            "Epoch 4/30\n",
            "516/516 [==============================] - 94s 182ms/step - loss: 6.1032\n",
            "Epoch 5/30\n",
            "516/516 [==============================] - 93s 181ms/step - loss: 5.9672\n",
            "Epoch 6/30\n",
            "516/516 [==============================] - 93s 180ms/step - loss: 5.8087\n",
            "Epoch 7/30\n",
            "516/516 [==============================] - 93s 180ms/step - loss: 5.6640\n",
            "Epoch 8/30\n",
            "516/516 [==============================] - 93s 180ms/step - loss: 5.5204\n",
            "Epoch 9/30\n",
            "516/516 [==============================] - 94s 182ms/step - loss: 5.3864\n",
            "Epoch 10/30\n",
            "516/516 [==============================] - 93s 181ms/step - loss: 5.2420\n",
            "Epoch 11/30\n",
            "516/516 [==============================] - 93s 180ms/step - loss: 5.1272\n",
            "Epoch 12/30\n",
            "516/516 [==============================] - 93s 180ms/step - loss: 5.0765\n",
            "Epoch 13/30\n",
            "516/516 [==============================] - 93s 181ms/step - loss: 4.9485\n",
            "Epoch 14/30\n",
            "516/516 [==============================] - 93s 180ms/step - loss: 4.8178\n",
            "Epoch 15/30\n",
            "516/516 [==============================] - 93s 180ms/step - loss: 4.7227\n",
            "Epoch 16/30\n",
            "516/516 [==============================] - 93s 181ms/step - loss: 4.5864\n",
            "Epoch 17/30\n",
            "516/516 [==============================] - 93s 181ms/step - loss: 4.4913\n",
            "Epoch 18/30\n",
            "516/516 [==============================] - 93s 181ms/step - loss: 4.3790\n",
            "Epoch 19/30\n",
            "516/516 [==============================] - 93s 180ms/step - loss: 4.2937\n",
            "Epoch 20/30\n",
            "516/516 [==============================] - 93s 180ms/step - loss: 4.1642\n",
            "Epoch 21/30\n",
            "516/516 [==============================] - 93s 181ms/step - loss: 4.0845\n",
            "Epoch 22/30\n",
            "516/516 [==============================] - 93s 181ms/step - loss: 3.9646\n",
            "Epoch 23/30\n",
            "516/516 [==============================] - 94s 182ms/step - loss: 3.8558\n",
            "Epoch 24/30\n",
            "516/516 [==============================] - 94s 182ms/step - loss: 3.7874\n",
            "Epoch 25/30\n",
            "516/516 [==============================] - 93s 181ms/step - loss: 3.7180\n",
            "Epoch 26/30\n",
            "516/516 [==============================] - 93s 181ms/step - loss: 3.6110\n",
            "Epoch 27/30\n",
            "516/516 [==============================] - 93s 180ms/step - loss: 3.5473\n",
            "Epoch 28/30\n",
            "516/516 [==============================] - 93s 181ms/step - loss: 3.4603\n",
            "Epoch 29/30\n",
            "516/516 [==============================] - 93s 180ms/step - loss: 3.3663\n",
            "Epoch 30/30\n",
            "516/516 [==============================] - 93s 181ms/step - loss: 3.3117\n"
          ],
          "name": "stdout"
        },
        {
          "output_type": "execute_result",
          "data": {
            "text/plain": [
              "<keras.callbacks.History at 0x7f3d18d415d0>"
            ]
          },
          "metadata": {
            "tags": []
          },
          "execution_count": 0
        }
      ]
    },
    {
      "cell_type": "code",
      "metadata": {
        "colab": {
          "background_save": true
        },
        "id": "toSnQtiwYzQs"
      },
      "source": [
        "def generate_text(seed_text, next_words, model, max_seq_len):\n",
        "    for _ in range(next_words):\n",
        "        token_list = t.texts_to_sequences([seed_text])[0]\n",
        "        token_list = pad_sequences([token_list], maxlen=max_seq_len-1, padding='pre')\n",
        "        \n",
        "        predicted = model.predict_classes(token_list, verbose=0)\n",
        "        \n",
        "        output_word = ''\n",
        "        \n",
        "        for word,index in t.word_index.items():\n",
        "            if index == predicted:\n",
        "                output_word = word\n",
        "                break\n",
        "                \n",
        "        seed_text = seed_text + \" \" + output_word\n",
        "        \n",
        "    return seed_text.title()"
      ],
      "execution_count": null,
      "outputs": []
    },
    {
      "cell_type": "code",
      "metadata": {
        "colab": {
          "background_save": true
        },
        "id": "Vur2qYIJYzQ0"
      },
      "source": [
        "# Create text widget for output\n",
        "output_text = widgets.Text()\n",
        "\n",
        "# Create text widget for input\n",
        "input_text = widgets.Text()\n",
        "\n",
        "# Define function to bind value of the input to the output variable \n",
        "def bind_input_to_output(sender):\n",
        "    output_text.value = input_text.value\n",
        "\n",
        "# Tell the text input widget to call bind_input_to_output() on submit\n",
        "input_text.on_submit(bind_input_to_output)"
      ],
      "execution_count": null,
      "outputs": []
    },
    {
      "cell_type": "code",
      "metadata": {
        "colab": {
          "background_save": true
        },
        "id": "j8CZNysgYzQ2"
      },
      "source": [
        "input_text.observe(bind_input_to_output)"
      ],
      "execution_count": null,
      "outputs": []
    },
    {
      "cell_type": "code",
      "metadata": {
        "colab": {
          "background_save": true
        },
        "id": "AWLNT52kmlK4"
      },
      "source": [
        "# model2 = keras.models.load_model('/content/gdrive/MyDrive/Colab Notebooks/model_lstm/')\n",
        "# model2 = keras.models.load_model('/content/gdrive/MyDrive/Colab Notebooks/lstm_new/')\n",
        "# model3 = load_model('/content/my_model.h5')"
      ],
      "execution_count": null,
      "outputs": []
    },
    {
      "cell_type": "code",
      "metadata": {
        "colab": {
          "background_save": true
        },
        "id": "lmjmie7jFsOf"
      },
      "source": [
        "max_sequence_len=100"
      ],
      "execution_count": null,
      "outputs": []
    },
    {
      "cell_type": "code",
      "metadata": {
        "colab": {
          "background_save": true
        },
        "id": "TLZiMiTlH71x"
      },
      "source": [
        ""
      ],
      "execution_count": null,
      "outputs": []
    },
    {
      "cell_type": "code",
      "metadata": {
        "colab": {
          "background_save": true,
          "base_uri": "https://localhost:8080/"
        },
        "id": "i0P_RfX8Fd6S",
        "outputId": "a7385a52-4c01-4acb-c1e9-b9fc73ad7373"
      },
      "source": [
        "print(generate_text('Он', 20, lstm_model, 100))"
      ],
      "execution_count": null,
      "outputs": [
        {
          "output_type": "stream",
          "text": [
            "WARNING:tensorflow:Model was constructed with shape (None, 371) for input KerasTensor(type_spec=TensorSpec(shape=(None, 371), dtype=tf.float32, name='embedding_input'), name='embedding_input', description=\"created by layer 'embedding_input'\"), but it was called on an input with incompatible shape (None, 99).\n",
            "Он Что Что Ты Ты Одна Ты Одна Ты Ты Одна Ты Не Стыдясь Своей Не Стыдясь Своей Не Стыдясь Своей\n"
          ],
          "name": "stdout"
        }
      ]
    },
    {
      "cell_type": "code",
      "metadata": {
        "colab": {
          "background_save": true,
          "base_uri": "https://localhost:8080/"
        },
        "id": "VL8fSnl9YzQ5",
        "outputId": "79844e32-9286-4579-91c3-3856a4a79548"
      },
      "source": [
        "!pip3 install transformers"
      ],
      "execution_count": null,
      "outputs": [
        {
          "output_type": "stream",
          "text": [
            "Collecting transformers\n",
            "\u001b[?25l  Downloading https://files.pythonhosted.org/packages/d5/43/cfe4ee779bbd6a678ac6a97c5a5cdeb03c35f9eaebbb9720b036680f9a2d/transformers-4.6.1-py3-none-any.whl (2.2MB)\n",
            "\u001b[K     |████████████████████████████████| 2.3MB 9.1MB/s \n",
            "\u001b[?25hCollecting huggingface-hub==0.0.8\n",
            "  Downloading https://files.pythonhosted.org/packages/a1/88/7b1e45720ecf59c6c6737ff332f41c955963090a18e72acbcbeac6b25e86/huggingface_hub-0.0.8-py3-none-any.whl\n",
            "Requirement already satisfied: filelock in /usr/local/lib/python3.7/dist-packages (from transformers) (3.0.12)\n",
            "Collecting sacremoses\n",
            "\u001b[?25l  Downloading https://files.pythonhosted.org/packages/75/ee/67241dc87f266093c533a2d4d3d69438e57d7a90abb216fa076e7d475d4a/sacremoses-0.0.45-py3-none-any.whl (895kB)\n",
            "\u001b[K     |████████████████████████████████| 901kB 31.4MB/s \n",
            "\u001b[?25hRequirement already satisfied: regex!=2019.12.17 in /usr/local/lib/python3.7/dist-packages (from transformers) (2019.12.20)\n",
            "Requirement already satisfied: packaging in /usr/local/lib/python3.7/dist-packages (from transformers) (20.9)\n",
            "Requirement already satisfied: numpy>=1.17 in /usr/local/lib/python3.7/dist-packages (from transformers) (1.19.5)\n",
            "Collecting tokenizers<0.11,>=0.10.1\n",
            "\u001b[?25l  Downloading https://files.pythonhosted.org/packages/d4/e2/df3543e8ffdab68f5acc73f613de9c2b155ac47f162e725dcac87c521c11/tokenizers-0.10.3-cp37-cp37m-manylinux_2_5_x86_64.manylinux1_x86_64.manylinux_2_12_x86_64.manylinux2010_x86_64.whl (3.3MB)\n",
            "\u001b[K     |████████████████████████████████| 3.3MB 46.1MB/s \n",
            "\u001b[?25hRequirement already satisfied: requests in /usr/local/lib/python3.7/dist-packages (from transformers) (2.23.0)\n",
            "Requirement already satisfied: importlib-metadata; python_version < \"3.8\" in /usr/local/lib/python3.7/dist-packages (from transformers) (4.0.1)\n",
            "Requirement already satisfied: tqdm>=4.27 in /usr/local/lib/python3.7/dist-packages (from transformers) (4.41.1)\n",
            "Requirement already satisfied: click in /usr/local/lib/python3.7/dist-packages (from sacremoses->transformers) (7.1.2)\n",
            "Requirement already satisfied: joblib in /usr/local/lib/python3.7/dist-packages (from sacremoses->transformers) (1.0.1)\n",
            "Requirement already satisfied: six in /usr/local/lib/python3.7/dist-packages (from sacremoses->transformers) (1.15.0)\n",
            "Requirement already satisfied: pyparsing>=2.0.2 in /usr/local/lib/python3.7/dist-packages (from packaging->transformers) (2.4.7)\n",
            "Requirement already satisfied: chardet<4,>=3.0.2 in /usr/local/lib/python3.7/dist-packages (from requests->transformers) (3.0.4)\n",
            "Requirement already satisfied: urllib3!=1.25.0,!=1.25.1,<1.26,>=1.21.1 in /usr/local/lib/python3.7/dist-packages (from requests->transformers) (1.24.3)\n",
            "Requirement already satisfied: idna<3,>=2.5 in /usr/local/lib/python3.7/dist-packages (from requests->transformers) (2.10)\n",
            "Requirement already satisfied: certifi>=2017.4.17 in /usr/local/lib/python3.7/dist-packages (from requests->transformers) (2020.12.5)\n",
            "Requirement already satisfied: typing-extensions>=3.6.4; python_version < \"3.8\" in /usr/local/lib/python3.7/dist-packages (from importlib-metadata; python_version < \"3.8\"->transformers) (3.7.4.3)\n",
            "Requirement already satisfied: zipp>=0.5 in /usr/local/lib/python3.7/dist-packages (from importlib-metadata; python_version < \"3.8\"->transformers) (3.4.1)\n",
            "Installing collected packages: huggingface-hub, sacremoses, tokenizers, transformers\n",
            "Successfully installed huggingface-hub-0.0.8 sacremoses-0.0.45 tokenizers-0.10.3 transformers-4.6.1\n"
          ],
          "name": "stdout"
        }
      ]
    },
    {
      "cell_type": "code",
      "metadata": {
        "colab": {
          "background_save": true
        },
        "id": "qnAJWtDxZDyQ"
      },
      "source": [
        "from transformers import pipeline, set_seed"
      ],
      "execution_count": null,
      "outputs": []
    },
    {
      "cell_type": "code",
      "metadata": {
        "id": "LC9jBWllZTJf"
      },
      "source": [
        "generator = pipeline('text-generation', model='gpt2')"
      ],
      "execution_count": null,
      "outputs": []
    },
    {
      "cell_type": "code",
      "metadata": {
        "id": "tYV6xS7HZXbo"
      },
      "source": [
        "set_seed(96)\n"
      ],
      "execution_count": null,
      "outputs": []
    },
    {
      "cell_type": "code",
      "metadata": {
        "id": "yfsk0hPUbDWG"
      },
      "source": [
        "from transformers import GPT2LMHeadModel, GPT2Tokenizer\n",
        "def load_tokenizer_and_model(model_name_or_path):\n",
        "  return GPT2Tokenizer.from_pretrained(model_name_or_path), GPT2LMHeadModel.from_pretrained(model_name_or_path).cuda()\n",
        "\n",
        "\n",
        "def generate(\n",
        "    model, tok, text,\n",
        "    do_sample=True, max_length=100, repetition_penalty=5.0,\n",
        "    top_k=5, top_p=0.95, temperature=1,\n",
        "    num_beams=None,\n",
        "    no_repeat_ngram_size=3\n",
        "    ):\n",
        "  input_ids = tok.encode(text, return_tensors=\"pt\").cuda()\n",
        "  out = model.generate(\n",
        "      input_ids.cuda(),\n",
        "      max_length=max_length,\n",
        "      repetition_penalty=repetition_penalty,\n",
        "      do_sample=do_sample,\n",
        "      top_k=top_k, top_p=top_p, temperature=temperature,\n",
        "      num_beams=num_beams, no_repeat_ngram_size=no_repeat_ngram_size\n",
        "      )\n",
        "  return list(map(tok.decode, out))"
      ],
      "execution_count": null,
      "outputs": []
    },
    {
      "cell_type": "code",
      "metadata": {
        "id": "BhQxnk7HbTJF"
      },
      "source": [
        "tok, model = load_tokenizer_and_model(\"sberbank-ai/rugpt3small_based_on_gpt2\")\n"
      ],
      "execution_count": null,
      "outputs": []
    },
    {
      "cell_type": "code",
      "metadata": {
        "colab": {
          "base_uri": "https://localhost:8080/"
        },
        "id": "1ldmNP_ncpfL",
        "outputId": "36ac997e-b7e0-4334-c09d-316f86d6b517"
      },
      "source": [
        "generated = generate(model, tok, \"Женя\", num_beams=10)"
      ],
      "execution_count": null,
      "outputs": [
        {
          "output_type": "stream",
          "text": [
            "Setting `pad_token_id` to `eos_token_id`:50256 for open-end generation.\n"
          ],
          "name": "stderr"
        }
      ]
    },
    {
      "cell_type": "code",
      "metadata": {
        "colab": {
          "base_uri": "https://localhost:8080/",
          "height": 53
        },
        "id": "0IN7gYGTNPC5",
        "outputId": "b5a8631c-6637-4082-cada-8f6681204f53"
      },
      "source": [
        "generated[0]"
      ],
      "execution_count": null,
      "outputs": [
        {
          "output_type": "execute_result",
          "data": {
            "application/vnd.google.colaboratory.intrinsic+json": {
              "type": "string"
            },
            "text/plain": [
              "'Женя, я тебя люблю!\\xa0— сказал он и поцеловал ее в губы.\\n\\nИ она ответила ему тем же:\\n\\n—\\xa0А ты меня любишь?\\n\\nОн не мог поверить своим ушам. Он никогда еще не был так близок к тому, чтобы сказать ей «нет». Она была для него чем-то таким, что заставляло его чувствовать себя виноватым перед ней за все то, что случилось с ним до того, как он узнал о том, что произошло между ними'"
            ]
          },
          "metadata": {
            "tags": []
          },
          "execution_count": 43
        }
      ]
    },
    {
      "cell_type": "code",
      "metadata": {
        "colab": {
          "base_uri": "https://localhost:8080/",
          "height": 48,
          "referenced_widgets": [
            "65c9f5af9b974994a147258b968d5ca1",
            "32322a1476c94f6b9f1fde9f84cbc3f2",
            "988ae01445ca4758be10bae7b56db3ba"
          ]
        },
        "id": "E4Jg7QAm-C8H",
        "outputId": "9d8e8ba5-9e8c-4074-eca7-d65272c2210b"
      },
      "source": [
        "display(input_text)"
      ],
      "execution_count": 65,
      "outputs": [
        {
          "output_type": "display_data",
          "data": {
            "application/vnd.jupyter.widget-view+json": {
              "model_id": "65c9f5af9b974994a147258b968d5ca1",
              "version_minor": 0,
              "version_major": 2
            },
            "text/plain": [
              "Text(value='Я ем детей')"
            ]
          },
          "metadata": {
            "tags": []
          }
        }
      ]
    },
    {
      "cell_type": "code",
      "metadata": {
        "id": "3wSFMJ0z3Mw5"
      },
      "source": [
        ""
      ],
      "execution_count": null,
      "outputs": []
    },
    {
      "cell_type": "code",
      "metadata": {
        "colab": {
          "base_uri": "https://localhost:8080/",
          "height": 86,
          "referenced_widgets": [
            "930f2ee16290454799fcd2d56e0f0889",
            "6d703b6e49b84269acaffa7237a402cf",
            "5033a31203e844289f7d9abe65af126e",
            "1b41735a588c4021a7d6cb5351fe0d3f",
            "8cc8d9bbcbf44ce8b870ecee09a82032",
            "cabec34190eb4430bf2ddb1d2252d658",
            "a2517948e89242ff86df1ea4f409dffe",
            "9bc57c61cbf947c482a05c227f8d8e48",
            "9598888be03a4bc490856d2fe071550a",
            "2f90725cebb84cae86ea9a0dbca26876",
            "a2f52940dbbc4acf8e96bf48e9384374",
            "12acd64390bf4da89f91600e920c3034",
            "1d090acfede54a5e9241497209587360"
          ]
        },
        "id": "-poysd-CYzQ7",
        "outputId": "4ce84f1c-9aef-4a2f-cfaa-c448dbeb2fb6"
      },
      "source": [
        "btn_lstm = widgets.Button(description='lstm')\n",
        "btn_gpt_simple = widgets.Button(description='gpt_simple')\n",
        "btn_gpt3 = widgets.Button(description='gpt3')\n",
        "\n",
        "\n",
        "output = widgets.Output()\n",
        "display(output)\n",
        "def run_lstm(btn_object):\n",
        "    with output:\n",
        "        clear_output()\n",
        "        X = output_text.value\n",
        "        gen=generate_text(X, 50, lstm_model, 100)\n",
        "        print(gen)\n",
        "    \n",
        "\n",
        "def run_gpt_simple(btn_object):\n",
        "     with output:\n",
        "        clear_output()\n",
        "        gen = generator(output_text.value, max_length=30, num_return_sequences=1)[0]['generated_text']\n",
        "        print(gen)\n",
        "    \n",
        "\n",
        "def run_gpt3(btn_object):\n",
        "    with output:\n",
        "        clear_output()\n",
        "        X = output_text.value\n",
        "        generated = generate(model, tok, X, num_beams=10)\n",
        "\n",
        "        print(generated[0])\n",
        "\n",
        "\n",
        "btn_lstm.on_click(run_lstm)\n",
        "btn_gpt_simple.on_click(run_gpt_simple)\n",
        "btn_gpt3.on_click(run_gpt3)\n",
        "\n",
        "\n",
        "\n",
        "\n",
        "first_line = HBox([btn_lstm, btn_gpt_simple, btn_gpt3])\n",
        "display(first_line)\n"
      ],
      "execution_count": 66,
      "outputs": [
        {
          "output_type": "display_data",
          "data": {
            "application/vnd.jupyter.widget-view+json": {
              "model_id": "930f2ee16290454799fcd2d56e0f0889",
              "version_minor": 0,
              "version_major": 2
            },
            "text/plain": [
              "Output()"
            ]
          },
          "metadata": {
            "tags": []
          }
        },
        {
          "output_type": "display_data",
          "data": {
            "application/vnd.jupyter.widget-view+json": {
              "model_id": "5033a31203e844289f7d9abe65af126e",
              "version_minor": 0,
              "version_major": 2
            },
            "text/plain": [
              "HBox(children=(Button(description='lstm', style=ButtonStyle()), Button(description='gpt_simple', style=ButtonS…"
            ]
          },
          "metadata": {
            "tags": []
          }
        }
      ]
    },
    {
      "cell_type": "code",
      "metadata": {
        "id": "c7CZZTGnYzQ-"
      },
      "source": [
        ""
      ],
      "execution_count": null,
      "outputs": []
    },
    {
      "cell_type": "code",
      "metadata": {
        "id": "o2lRjebBYzQ_"
      },
      "source": [
        ""
      ],
      "execution_count": null,
      "outputs": []
    }
  ]
}